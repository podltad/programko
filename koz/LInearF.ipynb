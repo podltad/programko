{
 "cells": [
  {
   "cell_type": "code",
   "execution_count": null,
   "metadata": {},
   "outputs": [
    {
     "ename": "",
     "evalue": "",
     "output_type": "error",
     "traceback": [
      "\u001b[1;31mRunning cells with 'c:\\Users\\tadys\\AppData\\Local\\Microsoft\\WindowsApps\\python3.10.exe' requires the ipykernel package.\n",
      "\u001b[1;31mRun the following command to install 'ipykernel' into the Python environment. \n",
      "\u001b[1;31mCommand: 'c:/Users/tadys/AppData/Local/Microsoft/WindowsApps/python3.10.exe -m pip install ipykernel -U --user --force-reinstall'"
     ]
    }
   ],
   "source": [
    "class LinearF:\n",
    "    def __init__(self, a = 1, b = 0):\n",
    "        self.a = a\n",
    "        self.b = b \n",
    "\n",
    "def get_linear(self):\n",
    "    return -self.b/self.a \n",
    "\n",
    "def __str__(self):\n",
    "    try:\n",
    "        x = self.get_linear()\n",
    "    except ZeroDivisionError:\n",
    "        return\n",
    "    except:\n",
    "        return\n",
    "    else:\n",
    "        return f\"řešením lineární rovnice ve tvaru {self.a} x + {self.b} = 0 je x  = {x}.\"\n",
    "\n",
    "l = LinearF (3, -15)\n",
    "print(l)\n",
    "\n",
    "k= LinearF(0, 5)\n",
    "print(k)"
   ]
  }
 ],
 "metadata": {
  "kernelspec": {
   "display_name": "Python 3",
   "language": "python",
   "name": "python3"
  },
  "language_info": {
   "name": "python",
   "version": "3.10.11"
  },
  "orig_nbformat": 4
 },
 "nbformat": 4,
 "nbformat_minor": 2
}
